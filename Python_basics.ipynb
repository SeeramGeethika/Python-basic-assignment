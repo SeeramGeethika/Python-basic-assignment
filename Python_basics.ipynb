{
  "nbformat": 4,
  "nbformat_minor": 0,
  "metadata": {
    "colab": {
      "provenance": []
    },
    "kernelspec": {
      "name": "python3",
      "display_name": "Python 3"
    },
    "language_info": {
      "name": "python"
    }
  },
  "cells": [
    {
      "cell_type": "code",
      "source": [
        "#1 Write a Python program to print \"Hello, World!y\n",
        "\n",
        "print(\"Hello world\")"
      ],
      "metadata": {
        "colab": {
          "base_uri": "https://localhost:8080/"
        },
        "id": "2KwN613aThak",
        "outputId": "e23146eb-9ccd-4b16-f3bf-581284a26e2b"
      },
      "execution_count": null,
      "outputs": [
        {
          "output_type": "stream",
          "name": "stdout",
          "text": [
            "Hello world\n"
          ]
        }
      ]
    },
    {
      "cell_type": "code",
      "source": [
        "#2Write a Python program that displays your name and age?\n",
        "Name =\"Seeram Geethika\"\n",
        "Age =\"22\"\n",
        "print(\"my name is\",Name)\n",
        "print(\"my age is\",Age)"
      ],
      "metadata": {
        "colab": {
          "base_uri": "https://localhost:8080/"
        },
        "id": "rd5yIF7fTl6t",
        "outputId": "89788635-babb-4d88-ce09-02b44ac5bafc"
      },
      "execution_count": null,
      "outputs": [
        {
          "output_type": "stream",
          "name": "stdout",
          "text": [
            "my name is Seeram Geethika\n",
            "my age is 22\n"
          ]
        }
      ]
    },
    {
      "cell_type": "code",
      "source": [
        "#3 Write code to print all the pre-defined keywords in Python using the keyword library?\n",
        "import keyword\n",
        "print(\"python keywords\")\n",
        "print(keyword.kwlist)"
      ],
      "metadata": {
        "colab": {
          "base_uri": "https://localhost:8080/"
        },
        "id": "fISq0VV_UcDX",
        "outputId": "e5e1dbff-ef96-4fec-d6c7-344df29c0f05"
      },
      "execution_count": null,
      "outputs": [
        {
          "output_type": "stream",
          "name": "stdout",
          "text": [
            "python keywords\n",
            "['False', 'None', 'True', 'and', 'as', 'assert', 'async', 'await', 'break', 'class', 'continue', 'def', 'del', 'elif', 'else', 'except', 'finally', 'for', 'from', 'global', 'if', 'import', 'in', 'is', 'lambda', 'nonlocal', 'not', 'or', 'pass', 'raise', 'return', 'try', 'while', 'with', 'yield']\n"
          ]
        }
      ]
    },
    {
      "cell_type": "code",
      "source": [
        "#4 Write a program that checks if a given word is a Python keyword?\n",
        "import keyword\n",
        "word = input(\"enter keyword:\")\n",
        "if word in keyword.kwlist:\n",
        "  print(\"It is a python keyword\")\n",
        "else:\n",
        "  print(\"It is not a python keyword\")"
      ],
      "metadata": {
        "colab": {
          "base_uri": "https://localhost:8080/"
        },
        "id": "pd64lftqZBqh",
        "outputId": "7ba2cd3c-f2e8-4e63-cd40-8773e8329eba"
      },
      "execution_count": null,
      "outputs": [
        {
          "output_type": "stream",
          "name": "stdout",
          "text": [
            "enter keyword:if\n",
            "It is a python keyword\n"
          ]
        }
      ]
    },
    {
      "cell_type": "code",
      "source": [
        "#5 Create a list and tuple in Python, and demonstrate how attempting to change an element works differently for each\n",
        "my_list = [1,2,3,4] #here the list is created\n",
        "print(\"my_list\",my_list)"
      ],
      "metadata": {
        "id": "qyNxP3lOakQ5",
        "colab": {
          "base_uri": "https://localhost:8080/"
        },
        "outputId": "44417a25-0b4c-4b03-aaf9-08b9e7172179"
      },
      "execution_count": null,
      "outputs": [
        {
          "output_type": "stream",
          "name": "stdout",
          "text": [
            "my_list [1, 2, 3, 4]\n"
          ]
        }
      ]
    },
    {
      "cell_type": "code",
      "source": [
        "my_list[3]=500 #here the index no 3 that means number 4 will get changed into 500\n",
        "print(\"my_list\",my_list)"
      ],
      "metadata": {
        "colab": {
          "base_uri": "https://localhost:8080/"
        },
        "id": "b35Sf78Kb3vS",
        "outputId": "4bc3fa3e-69a3-4738-cfd0-78ba57e973ee"
      },
      "execution_count": null,
      "outputs": [
        {
          "output_type": "stream",
          "name": "stdout",
          "text": [
            "my_list [1, 2, 3, 500]\n"
          ]
        }
      ]
    },
    {
      "cell_type": "code",
      "source": [
        "my_tuple =(1,2,3)\n",
        "my_tuple[2] = 5\n",
        "print(\"my_tuple\", my_tuple) #here objects is not changed because tuple is immutable"
      ],
      "metadata": {
        "colab": {
          "base_uri": "https://localhost:8080/",
          "height": 176
        },
        "id": "usjbmTm_cE6c",
        "outputId": "06a0f651-16e0-4cfd-d281-77560119f7d3"
      },
      "execution_count": null,
      "outputs": [
        {
          "output_type": "error",
          "ename": "TypeError",
          "evalue": "'tuple' object does not support item assignment",
          "traceback": [
            "\u001b[0;31m---------------------------------------------------------------------------\u001b[0m",
            "\u001b[0;31mTypeError\u001b[0m                                 Traceback (most recent call last)",
            "\u001b[0;32m/tmp/ipython-input-46-1696235229.py\u001b[0m in \u001b[0;36m<cell line: 0>\u001b[0;34m()\u001b[0m\n\u001b[1;32m      1\u001b[0m \u001b[0mmy_tuple\u001b[0m \u001b[0;34m=\u001b[0m\u001b[0;34m(\u001b[0m\u001b[0;36m1\u001b[0m\u001b[0;34m,\u001b[0m\u001b[0;36m2\u001b[0m\u001b[0;34m,\u001b[0m\u001b[0;36m3\u001b[0m\u001b[0;34m)\u001b[0m\u001b[0;34m\u001b[0m\u001b[0;34m\u001b[0m\u001b[0m\n\u001b[0;32m----> 2\u001b[0;31m \u001b[0mmy_tuple\u001b[0m\u001b[0;34m[\u001b[0m\u001b[0;36m2\u001b[0m\u001b[0;34m]\u001b[0m \u001b[0;34m=\u001b[0m \u001b[0;36m5\u001b[0m\u001b[0;34m\u001b[0m\u001b[0;34m\u001b[0m\u001b[0m\n\u001b[0m\u001b[1;32m      3\u001b[0m \u001b[0mprint\u001b[0m\u001b[0;34m(\u001b[0m\u001b[0;34m\"my_tuple\"\u001b[0m\u001b[0;34m,\u001b[0m \u001b[0mmy_tuple\u001b[0m\u001b[0;34m)\u001b[0m \u001b[0;31m#here objects is not changed because tuple is immutable\u001b[0m\u001b[0;34m\u001b[0m\u001b[0;34m\u001b[0m\u001b[0m\n",
            "\u001b[0;31mTypeError\u001b[0m: 'tuple' object does not support item assignment"
          ]
        }
      ]
    },
    {
      "cell_type": "code",
      "source": [
        "#6  Write a function to demonstrate the behavior of mutable and immutable arguments\n",
        "def input(a, b):\n",
        "    a = a + 1         # Tries to change number (immutable)\n",
        "    b.append(4)       # Changes list (mutable)\n",
        "    print(\"after function:\")\n",
        "    print(\"a =\", a)\n",
        "    print(\"b =\", b)\n",
        "x = 5\n",
        "y = [1, 2, 3]\n",
        "input(x, y)\n",
        "\n",
        "print(\"before function\")\n",
        "print(\"x =\",x)\n",
        "print(\"y =\",y)\n"
      ],
      "metadata": {
        "colab": {
          "base_uri": "https://localhost:8080/"
        },
        "id": "lKJ8CqFlcqhM",
        "outputId": "bae3caed-cbe6-4d0f-f80c-b38213951dd7"
      },
      "execution_count": null,
      "outputs": [
        {
          "output_type": "stream",
          "name": "stdout",
          "text": [
            "after function:\n",
            "a = 6\n",
            "b = [1, 2, 3, 4]\n",
            "before function\n",
            "x = 5\n",
            "y = [1, 2, 3, 4]\n"
          ]
        }
      ]
    },
    {
      "cell_type": "code",
      "source": [
        "#7 Write a program that performs basic arithmetic operations on two user-input numbers.\n",
        "\n",
        "a=int(input(\"enter a numbere\"))\n",
        "b=int(input(\"enter a number\"))\n",
        "print(\"addition\",a+b)\n",
        "print(\"subtraction\",a-b)\n",
        "print(\"multiplication\",a*b)\n",
        "print(\"division\",a/b)"
      ],
      "metadata": {
        "id": "8iOp5h-woH3D",
        "colab": {
          "base_uri": "https://localhost:8080/"
        },
        "outputId": "6071d89e-2b35-4187-a202-221c7fca1fad"
      },
      "execution_count": 7,
      "outputs": [
        {
          "output_type": "stream",
          "name": "stdout",
          "text": [
            "enter a numbere23\n",
            "enter a number6\n",
            "addition 29\n",
            "subtraction 17\n",
            "multiplication 138\n",
            "division 3.8333333333333335\n"
          ]
        }
      ]
    },
    {
      "cell_type": "code",
      "source": [
        "#8 Write a program to demonstrate the use of logical operators\n",
        "# Logical Operators Demo\n",
        "\n",
        "a = True\n",
        "b = False\n",
        "print(\"a =\", a)\n",
        "print(\"b =\", b)\n",
        "print(\"a and b =\", a and b)  # False (both must be True)\n",
        "print(\"a or b =\", a or b)      # True (at least one is True)\n",
        "print(\"not a =\", not a)        # False (opposite of True)\n"
      ],
      "metadata": {
        "colab": {
          "base_uri": "https://localhost:8080/"
        },
        "id": "OTRabVETm7XS",
        "outputId": "b60b3948-dc3e-4ebb-b417-91557a634d9f"
      },
      "execution_count": null,
      "outputs": [
        {
          "output_type": "stream",
          "name": "stdout",
          "text": [
            "a = True\n",
            "b = False\n",
            "a and b = False\n",
            "a or b = True\n",
            "not a = False\n"
          ]
        }
      ]
    },
    {
      "cell_type": "code",
      "source": [
        "#9 Write a Python program to convert user input from string to integer, float, and boolean types.\n",
        "#taking a user string\n",
        "user_input = input(\"enter a string\")\n",
        "#converting the string\n",
        "int_value = int(user_input)\n",
        "float_value = float(user_input)\n",
        "bool_value = bool(user_input)\n",
        "#printing the values\n",
        "print(\"int_value\",int_value)\n",
        "print(\"float_value\",float_value)\n",
        "print(\"bool_value\",bool_value)\n",
        "\n"
      ],
      "metadata": {
        "id": "s2Lyd2w7nSPE",
        "colab": {
          "base_uri": "https://localhost:8080/"
        },
        "outputId": "55bcdb50-fd28-476c-c376-ee644511fc3b"
      },
      "execution_count": 6,
      "outputs": [
        {
          "output_type": "stream",
          "name": "stdout",
          "text": [
            "enter a string678\n",
            "int_value 678\n",
            "float_value 678.0\n",
            "bool_value True\n"
          ]
        }
      ]
    },
    {
      "cell_type": "code",
      "source": [
        "#10 Write code to demonstrate type casting with list elements\n",
        "str_list = [\"10\",\"20\",\"30\",\"40\"] #user string list\n",
        "int_list = []\n",
        "for i in str_list:\n",
        "  int_list.append(int(i)) #it converts the string list into int\n",
        "print(int_list)\n",
        "float_list = []\n",
        "for i in str_list:\n",
        "  float_list.append(float(i)) # it converts the string list into float\n",
        "print(float_list)\n",
        "bool_list = []\n",
        "for i in str_list:\n",
        "  bool_list.append(bool(i))  #here the string list will be convert into boolean\n",
        "print(bool_list)"
      ],
      "metadata": {
        "colab": {
          "base_uri": "https://localhost:8080/"
        },
        "id": "3gAcImDNoEFU",
        "outputId": "f9f4408c-9617-4e06-946c-e7d486f4ab2a"
      },
      "execution_count": null,
      "outputs": [
        {
          "output_type": "stream",
          "name": "stdout",
          "text": [
            "[10, 20, 30, 40]\n",
            "[10.0, 20.0, 30.0, 40.0]\n",
            "[True, True, True, True]\n"
          ]
        }
      ]
    },
    {
      "cell_type": "code",
      "source": [
        "#11 Write a program that checks if a number is positive, negative, or zero.\n",
        "\n",
        "a=int(input(\"enter a number\"))\n",
        "if a>0:\n",
        "  print(\"number is positive\")\n",
        "elif a<0:\n",
        "  print(\"number is negative\")\n",
        "else:\n",
        "  print(\"number is zero\")"
      ],
      "metadata": {
        "colab": {
          "base_uri": "https://localhost:8080/"
        },
        "id": "Hhd8j5UspbO3",
        "outputId": "d5ae3ab8-04f4-4050-b6e6-ddbd3f648247"
      },
      "execution_count": 4,
      "outputs": [
        {
          "output_type": "stream",
          "name": "stdout",
          "text": [
            "enter a number-567\n",
            "number is negative\n"
          ]
        }
      ]
    },
    {
      "cell_type": "code",
      "source": [
        "#12 Write a for loop to print numbers from 1 to 10.\n",
        "for i in range(1, 11):\n",
        "    print(i)\n"
      ],
      "metadata": {
        "colab": {
          "base_uri": "https://localhost:8080/"
        },
        "id": "iC5YuKFbrXgf",
        "outputId": "f0ccb32e-2b82-4803-98e5-28c5f96ba401"
      },
      "execution_count": null,
      "outputs": [
        {
          "output_type": "stream",
          "name": "stdout",
          "text": [
            "1\n",
            "2\n",
            "3\n",
            "4\n",
            "5\n",
            "6\n",
            "7\n",
            "8\n",
            "9\n",
            "10\n"
          ]
        }
      ]
    },
    {
      "cell_type": "code",
      "source": [
        "#13 Write a Python program to find the sum of all even numbers between 1 and 50\n",
        "total = 0\n",
        "for i in range(0, 50):\n",
        "    if i % 2 == 0:\n",
        "        total += i\n",
        "print(\"Sum of even numbers from 1 to 50 is:\", total)\n"
      ],
      "metadata": {
        "colab": {
          "base_uri": "https://localhost:8080/"
        },
        "id": "3RP1WG_0rs4v",
        "outputId": "e5b7bf3f-7bbc-4995-f4d6-2a36e7cba064"
      },
      "execution_count": null,
      "outputs": [
        {
          "output_type": "stream",
          "name": "stdout",
          "text": [
            "Sum of even numbers from 1 to 50 is: 600\n"
          ]
        }
      ]
    },
    {
      "cell_type": "code",
      "source": [
        "#14. Write a program to reverse a string using a while loop.\n",
        "\n",
        "text= input(\"enter a string\")\n",
        "reverse_text = \"\"\n",
        "length = len(text)\n",
        "while length > 0:\n",
        "  reverse_text += text[length - 1]\n",
        "  length = length - 1\n",
        "print(reverse_text)"
      ],
      "metadata": {
        "colab": {
          "base_uri": "https://localhost:8080/"
        },
        "id": "7cuwcYI3r985",
        "outputId": "c78e005b-7805-43ef-9322-f05b988e01bb"
      },
      "execution_count": 2,
      "outputs": [
        {
          "output_type": "stream",
          "name": "stdout",
          "text": [
            "enter a stringdelhi\n",
            "ihled\n"
          ]
        }
      ]
    },
    {
      "cell_type": "code",
      "source": [
        "#15. Write a Python program to calculate the factorial of a number provided by the user using a while loop.\n",
        "num = int(input(\"Enter a number: \"))\n",
        "factorial = 1\n",
        "i = 1\n",
        "while i <= num:\n",
        "    factorial *= i\n",
        "    i += 1\n",
        "print(\"The factorial of\", num, \"is\", factorial)\n"
      ],
      "metadata": {
        "colab": {
          "base_uri": "https://localhost:8080/"
        },
        "id": "hSPzI-Zfsjpl",
        "outputId": "0102c3a6-1b1b-42b7-85d0-6d01d89dfab6"
      },
      "execution_count": 1,
      "outputs": [
        {
          "output_type": "stream",
          "name": "stdout",
          "text": [
            "Enter a number: 35\n",
            "The factorial of 35 is 10333147966386144929666651337523200000000\n"
          ]
        }
      ]
    },
    {
      "cell_type": "code",
      "source": [],
      "metadata": {
        "id": "7ILA11wMswJ9"
      },
      "execution_count": null,
      "outputs": []
    }
  ]
}